{
  "nbformat": 4,
  "nbformat_minor": 0,
  "metadata": {
    "colab": {
      "provenance": [],
      "collapsed_sections": [
        "wNpRg_vcJQqS",
        "1crAJvFsI8IE",
        "l8lTZwHcKEEn",
        "rAmyZHPcPkdq",
        "djUyfK_GWSfU",
        "l7MtSJwO91yc"
      ],
      "gpuType": "T4"
    },
    "kernelspec": {
      "name": "python3",
      "display_name": "Python 3"
    },
    "language_info": {
      "name": "python"
    },
    "accelerator": "GPU"
  },
  "cells": [
    {
      "cell_type": "code",
      "execution_count": 1,
      "metadata": {
        "colab": {
          "base_uri": "https://localhost:8080/"
        },
        "id": "WzVZ54g3qcbJ",
        "outputId": "74b89529-9e8e-4d96-966e-4b74bf4f788d"
      },
      "outputs": [
        {
          "output_type": "stream",
          "name": "stderr",
          "text": [
            "/tmp/ipython-input-1893473036.py:7: UserWarning: Parsing dates in %Y-%m-%d format when dayfirst=True was specified. Pass `dayfirst=False` or specify a format to silence this warning.\n",
            "  df = pd.read_csv(\n"
          ]
        }
      ],
      "source": [
        "# Imports\n",
        "import numpy as np\n",
        "import pandas as pd\n",
        "from collections import defaultdict, deque\n",
        "\n",
        "# Load main CSV\n",
        "df = pd.read_csv(\n",
        "    'full_all_data.csv',\n",
        "    parse_dates=['Date'],\n",
        "    dayfirst=True\n",
        ")"
      ]
    },
    {
      "cell_type": "code",
      "source": [
        "# Create team → index mapping\n",
        "all_teams = pd.unique(df[['HomeTeam', 'AwayTeam']].values.ravel())\n",
        "all_teams = sorted(all_teams)\n",
        "team_to_idx = {team: idx for idx, team in enumerate(all_teams)}\n",
        "num_teams = len(all_teams)\n",
        "\n",
        "def team_to_one_hot(team):\n",
        "    vec = np.zeros(num_teams)\n",
        "    vec[team_to_idx[team]] = 1\n",
        "    return vec\n",
        "\n",
        "# Convert teams to one-hot vectors\n",
        "home_one_hots = np.vstack(df['HomeTeam'].apply(team_to_one_hot))\n",
        "away_one_hots = np.vstack(df['AwayTeam'].apply(team_to_one_hot))"
      ],
      "metadata": {
        "id": "8MRXY6jgwRgj"
      },
      "execution_count": 2,
      "outputs": []
    },
    {
      "cell_type": "markdown",
      "source": [
        "**Prepare all features**"
      ],
      "metadata": {
        "id": "tN-MU4c-FhnI"
      }
    },
    {
      "cell_type": "code",
      "source": [
        "# Feature - Last-X-wins\n",
        "window_size = 5 # = X\n",
        "team_last_wins = defaultdict(lambda: deque(maxlen=window_size))\n",
        "df['last5_wins_H'] = 0\n",
        "df['last5_wins_A'] = 0\n",
        "\n",
        "for season, group in df.groupby('Season', sort=False):\n",
        "#    team_last_wins.clear()\n",
        "    for idx in group.index:\n",
        "        home = df.at[idx, 'HomeTeam']\n",
        "        away = df.at[idx, 'AwayTeam']\n",
        "        ftr = df.at[idx, 'FTR']\n",
        "        df.at[idx, 'last5_wins_H'] = sum(team_last_wins[home])\n",
        "        df.at[idx, 'last5_wins_A'] = sum(team_last_wins[away])\n",
        "        home_win = 1 if ftr == 'H' else 0\n",
        "        away_win = 1 if ftr == 'A' else 0\n",
        "        team_last_wins[home].append(home_win)\n",
        "        team_last_wins[away].append(away_win)"
      ],
      "metadata": {
        "id": "e6KRN8INwXbD"
      },
      "execution_count": 3,
      "outputs": []
    },
    {
      "cell_type": "code",
      "source": [
        "# Feature - Head-to-Head\n",
        "\n",
        "from collections import defaultdict\n",
        "\n",
        "\n",
        "# Initialize empty columns for directional H2H\n",
        "df['h2h_home_win_rate'] = 0.0\n",
        "df['h2h_away_win_rate'] = 0.0\n",
        "df['h2h_draw_rate'] = 0.0\n",
        "df['h2h_total_matches'] = 0\n",
        "\n",
        "# Initialize empty columns for symmetric H2H\n",
        "df['h2h_sym_team1_win_rate'] = 0.0\n",
        "df['h2h_sym_team2_win_rate'] = 0.0\n",
        "df['h2h_sym_draw_rate'] = 0.0\n",
        "df['h2h_sym_total_matches'] = 0\n",
        "\n",
        "# Dictionaries to store history\n",
        "directional_history = defaultdict(list)  # key = (home, away)\n",
        "symmetric_history = defaultdict(list)    # key = tuple(sorted([team1, team2]))\n",
        "\n",
        "for idx in df.index:\n",
        "    home = df.at[idx, 'HomeTeam']\n",
        "    away = df.at[idx, 'AwayTeam']\n",
        "    ftr = df.at[idx, 'FTR']\n",
        "\n",
        "    # --- Directional H2H ---\n",
        "    dir_key = (home, away)\n",
        "    dir_hist = directional_history[dir_key]\n",
        "    dir_total = len(dir_hist)\n",
        "\n",
        "    if dir_total > 0:\n",
        "        home_wins = sum(1 for r in dir_hist if r == 'H')\n",
        "        away_wins = sum(1 for r in dir_hist if r == 'A')\n",
        "        draws = sum(1 for r in dir_hist if r == 'D')\n",
        "\n",
        "        df.at[idx, 'h2h_home_win_rate'] = home_wins / dir_total\n",
        "        df.at[idx, 'h2h_away_win_rate'] = away_wins / dir_total\n",
        "        df.at[idx, 'h2h_draw_rate'] = draws / dir_total\n",
        "        df.at[idx, 'h2h_total_matches'] = dir_total\n",
        "\n",
        "    # --- Symmetric H2H ---\n",
        "    sym_key = tuple(sorted([home, away]))\n",
        "    sym_hist = symmetric_history[sym_key]\n",
        "    sym_total = len(sym_hist)\n",
        "\n",
        "    if sym_total > 0:\n",
        "        # Determine which team is team1 and team2 in the sorted tuple\n",
        "        team1, team2 = sym_key\n",
        "\n",
        "        # Count wins for team1 and team2 according to match result and who was home\n",
        "        if home == team1:\n",
        "            team1_wins = sum(1 for r in sym_hist if r == 'H')\n",
        "            team2_wins = sum(1 for r in sym_hist if r == 'A')\n",
        "        else:\n",
        "            # Home is team2, reverse win coding\n",
        "            team1_wins = sum(1 for r in sym_hist if r == 'A')\n",
        "            team2_wins = sum(1 for r in sym_hist if r == 'H')\n",
        "\n",
        "        draws = sum(1 for r in sym_hist if r == 'D')\n",
        "\n",
        "        df.at[idx, 'h2h_sym_team1_win_rate'] = team1_wins / sym_total\n",
        "        df.at[idx, 'h2h_sym_team2_win_rate'] = team2_wins / sym_total\n",
        "        df.at[idx, 'h2h_sym_draw_rate'] = draws / sym_total\n",
        "        df.at[idx, 'h2h_sym_total_matches'] = sym_total\n",
        "\n",
        "    # Append current match result to histories AFTER computing features\n",
        "    directional_history[dir_key].append(ftr)\n",
        "    symmetric_history[sym_key].append(ftr)"
      ],
      "metadata": {
        "id": "MEFMR1Dxwbkb"
      },
      "execution_count": 4,
      "outputs": []
    },
    {
      "cell_type": "code",
      "source": [
        "# Feature - Total goals scored and conceded in last X games\n",
        "\n",
        "from collections import defaultdict, deque\n",
        "\n",
        "window_size = 5 # = X\n",
        "\n",
        "# Prepare columns for home team\n",
        "df['home_goals_scored_home_lastX'] = 0\n",
        "df['home_goals_conceded_home_lastX'] = 0\n",
        "df['home_goals_scored_away_lastX'] = 0\n",
        "df['home_goals_conceded_away_lastX'] = 0\n",
        "df['home_goals_scored_total_lastX'] = 0\n",
        "df['home_goals_conceded_total_lastX'] = 0\n",
        "\n",
        "# Prepare columns for away team\n",
        "df['away_goals_scored_home_lastX'] = 0\n",
        "df['away_goals_conceded_home_lastX'] = 0\n",
        "df['away_goals_scored_away_lastX'] = 0\n",
        "df['away_goals_conceded_away_lastX'] = 0\n",
        "df['away_goals_scored_total_lastX'] = 0\n",
        "df['away_goals_conceded_total_lastX'] = 0\n",
        "\n",
        "# Rolling windows for home team\n",
        "home_goals_scored_home = defaultdict(lambda: deque(maxlen=window_size))\n",
        "home_goals_conceded_home = defaultdict(lambda: deque(maxlen=window_size))\n",
        "home_goals_scored_away = defaultdict(lambda: deque(maxlen=window_size))\n",
        "home_goals_conceded_away = defaultdict(lambda: deque(maxlen=window_size))\n",
        "home_goals_scored_total = defaultdict(lambda: deque(maxlen=window_size))\n",
        "home_goals_conceded_total = defaultdict(lambda: deque(maxlen=window_size))\n",
        "\n",
        "# Rolling windows for away team\n",
        "away_goals_scored_home = defaultdict(lambda: deque(maxlen=window_size))\n",
        "away_goals_conceded_home = defaultdict(lambda: deque(maxlen=window_size))\n",
        "away_goals_scored_away = defaultdict(lambda: deque(maxlen=window_size))\n",
        "away_goals_conceded_away = defaultdict(lambda: deque(maxlen=window_size))\n",
        "away_goals_scored_total = defaultdict(lambda: deque(maxlen=window_size))\n",
        "away_goals_conceded_total = defaultdict(lambda: deque(maxlen=window_size))\n",
        "\n",
        "for idx in df.index:\n",
        "    home = df.at[idx, 'HomeTeam']\n",
        "    away = df.at[idx, 'AwayTeam']\n",
        "    home_goals = df.at[idx, 'FTHG']\n",
        "    away_goals = df.at[idx, 'FTAG']\n",
        "\n",
        "    # Home team features before current match\n",
        "    df.at[idx, 'home_goals_scored_home_lastX'] = sum(home_goals_scored_home[home])\n",
        "    df.at[idx, 'home_goals_conceded_home_lastX'] = sum(home_goals_conceded_home[home])\n",
        "    df.at[idx, 'home_goals_scored_away_lastX'] = sum(home_goals_scored_away[home])\n",
        "    df.at[idx, 'home_goals_conceded_away_lastX'] = sum(home_goals_conceded_away[home])\n",
        "    df.at[idx, 'home_goals_scored_total_lastX'] = sum(home_goals_scored_total[home])\n",
        "    df.at[idx, 'home_goals_conceded_total_lastX'] = sum(home_goals_conceded_total[home])\n",
        "\n",
        "    # Away team features before current match\n",
        "    df.at[idx, 'away_goals_scored_home_lastX'] = sum(away_goals_scored_home[away])\n",
        "    df.at[idx, 'away_goals_conceded_home_lastX'] = sum(away_goals_conceded_home[away])\n",
        "    df.at[idx, 'away_goals_scored_away_lastX'] = sum(away_goals_scored_away[away])\n",
        "    df.at[idx, 'away_goals_conceded_away_lastX'] = sum(away_goals_conceded_away[away])\n",
        "    df.at[idx, 'away_goals_scored_total_lastX'] = sum(away_goals_scored_total[away])\n",
        "    df.at[idx, 'away_goals_conceded_total_lastX'] = sum(away_goals_conceded_total[away])\n",
        "\n",
        "    # Append current match results for home team\n",
        "    home_goals_scored_home[home].append(home_goals)\n",
        "    home_goals_conceded_home[home].append(away_goals)\n",
        "    home_goals_scored_away[home].append(0)  # no away match here\n",
        "    home_goals_conceded_away[home].append(0)\n",
        "    home_goals_scored_total[home].append(home_goals)\n",
        "    home_goals_conceded_total[home].append(away_goals)\n",
        "\n",
        "    # Append current match results for away team\n",
        "    away_goals_scored_home[away].append(0)  # no home match here\n",
        "    away_goals_conceded_home[away].append(0)\n",
        "    away_goals_scored_away[away].append(away_goals)\n",
        "    away_goals_conceded_away[away].append(home_goals)\n",
        "    away_goals_scored_total[away].append(away_goals)\n",
        "    away_goals_conceded_total[away].append(home_goals)"
      ],
      "metadata": {
        "id": "uNTWoXCY95Eo"
      },
      "execution_count": 5,
      "outputs": []
    },
    {
      "cell_type": "code",
      "source": [
        "# Feature - Golas diff and Total points diff\n",
        "df['diff_current_points'] = abs(df['current_points_H'] - df['current_points_A'])\n",
        "df['diff_last5_wins'] = abs(df['last5_wins_H'] - df['last5_wins_A'])\n",
        "\n",
        "\n",
        "\n",
        "df['home_diff_goals_home_lastX']  = df['home_goals_scored_home_lastX']  - df['home_goals_conceded_home_lastX']\n",
        "df['home_diff_goals_away_lastX']  = df['home_goals_scored_away_lastX']  - df['home_goals_conceded_away_lastX']\n",
        "df['home_diff_goals_total_lastX'] = df['home_goals_scored_total_lastX'] - df['home_goals_conceded_total_lastX']\n",
        "\n",
        "df['away_diff_goals_home_lastX']  = df['away_goals_scored_home_lastX']  - df['away_goals_conceded_home_lastX']\n",
        "df['away_diff_goals_away_lastX']  = df['away_goals_scored_away_lastX']  - df['away_goals_conceded_away_lastX']\n",
        "df['away_diff_goals_total_lastX'] = df['away_goals_scored_total_lastX'] - df['away_goals_conceded_total_lastX']\n",
        "\n",
        "\n",
        "df['who_will_score_more']  = df['home_goals_scored_home_lastX']  - df['away_goals_scored_away_lastX']\n",
        "df['who_will_concede_more']  = df['home_goals_conceded_home_lastX']  - df['away_goals_conceded_away_lastX']\n",
        "df['who_will_score_more_total'] = df['home_goals_scored_total_lastX'] - df['away_goals_scored_total_lastX']\n",
        "df['who_will_concede_more_total'] = df['home_goals_conceded_total_lastX'] - df['away_goals_conceded_total_lastX']\n",
        "\n",
        "\n",
        "\n",
        "df['diff_total_points'] = df['total_points_H'] - df['total_points_A']\n"
      ],
      "metadata": {
        "id": "Ni2D6GMlOFhO"
      },
      "execution_count": 6,
      "outputs": []
    },
    {
      "cell_type": "code",
      "source": [
        "# Get all features together\n",
        "\n",
        "numeric_features = df[[\n",
        "\n",
        "    'current_points_H', 'current_points_A', 'diff_current_points',\n",
        "\n",
        "    'total_points_H', 'total_points_A', #'diff_total_points',\n",
        "\n",
        "    'last5_wins_H', 'last5_wins_A', 'diff_last5_wins',\n",
        "\n",
        "    'h2h_home_win_rate', 'h2h_away_win_rate', 'h2h_draw_rate', 'h2h_total_matches',\n",
        "    'h2h_sym_team1_win_rate', 'h2h_sym_team2_win_rate', 'h2h_sym_draw_rate', 'h2h_sym_total_matches',\n",
        "\n",
        "    'home_diff_goals_home_lastX',\n",
        "    'home_diff_goals_away_lastX',\n",
        "    'home_diff_goals_total_lastX',\n",
        "\n",
        "    'away_diff_goals_home_lastX',\n",
        "    'away_diff_goals_away_lastX',\n",
        "    'away_diff_goals_total_lastX',\n",
        "\n",
        "\n",
        "    'home_goals_scored_home_lastX',\n",
        "    'home_goals_conceded_home_lastX',\n",
        "    'home_goals_scored_away_lastX',\n",
        "    'home_goals_conceded_away_lastX',\n",
        "    'home_goals_scored_total_lastX',\n",
        "    'home_goals_conceded_total_lastX',\n",
        "\n",
        "    'away_goals_scored_home_lastX',\n",
        "    'away_goals_conceded_home_lastX',\n",
        "    'away_goals_scored_away_lastX',\n",
        "    'away_goals_conceded_away_lastX',\n",
        "    'away_goals_scored_total_lastX',\n",
        "    'away_goals_conceded_total_lastX',\n",
        "\n",
        "    'who_will_score_more',\n",
        "    'who_will_concede_more',\n",
        "    'who_will_score_more_total',\n",
        "    'who_will_concede_more_total',\n",
        "\n",
        "]].values"
      ],
      "metadata": {
        "id": "FuenBy4_wOLd"
      },
      "execution_count": 7,
      "outputs": []
    },
    {
      "cell_type": "code",
      "source": [
        "from sklearn.model_selection import train_test_split\n",
        "from sklearn.preprocessing import StandardScaler, LabelEncoder\n",
        "from sklearn.ensemble import RandomForestClassifier\n",
        "from sklearn.metrics import accuracy_score, confusion_matrix, classification_report\n",
        "import matplotlib.pyplot as plt\n",
        "import seaborn as sns\n",
        "import numpy as np\n",
        "\n",
        "# Separate features\n",
        "X_cat = np.hstack([home_one_hots, away_one_hots])    # categorical features (one-hot)\n",
        "X_num = numeric_features                             # numeric features (NOT SCALED YET)\n",
        "y = df['FTR'].values                                 # target\n",
        "\n",
        "# Encode labels\n",
        "label_encoder = LabelEncoder()\n",
        "y_encoded = label_encoder.fit_transform(y)\n",
        "\n",
        "# Convert Season column to integer (e.g. \"2014/2015\" → 2014)\n",
        "df['Season'] = df['Season'].astype(str).str[:4].astype(int)\n",
        "\n",
        "# Split df chronologically\n",
        "season_cutoff = 2022\n",
        "df_train = df[df['Season'] < season_cutoff]\n",
        "df_test = df[df['Season'] >= season_cutoff]\n",
        "\n",
        "\n",
        "X_train_cat = np.hstack([home_one_hots[df_train.index], away_one_hots[df_train.index]])\n",
        "X_test_cat = np.hstack([home_one_hots[df_test.index], away_one_hots[df_test.index]])\n",
        "\n",
        "X_train_num = numeric_features[df_train.index]\n",
        "X_test_num = numeric_features[df_test.index]\n",
        "\n",
        "y_train = y_encoded[df_train.index]\n",
        "y_test = y_encoded[df_test.index]\n",
        "\n",
        "\n",
        "# Scale numeric features\n",
        "scaler = StandardScaler()\n",
        "X_train_num_scaled = scaler.fit_transform(X_train_num)\n",
        "X_test_num_scaled = scaler.transform(X_test_num)\n",
        "\n",
        "# Combine scaled numeric with categorical\n",
        "X_train = np.hstack([X_train_cat, X_train_num_scaled])\n",
        "X_test = np.hstack([X_test_cat, X_test_num_scaled])"
      ],
      "metadata": {
        "id": "DLCH2BIttAN5"
      },
      "execution_count": 8,
      "outputs": []
    },
    {
      "cell_type": "markdown",
      "source": [
        "**All Pre-Processing is now done.**\n",
        "**The next level is evaluating each model**"
      ],
      "metadata": {
        "id": "KPIKnQsNIBYB"
      }
    },
    {
      "cell_type": "markdown",
      "source": [
        "# Logistic Regression"
      ],
      "metadata": {
        "id": "wNpRg_vcJQqS"
      }
    },
    {
      "cell_type": "code",
      "source": [
        "from sklearn.linear_model import LogisticRegression\n",
        "\n",
        "# Train the model\n",
        "model = LogisticRegression(max_iter=1000, random_state=42, class_weight='balanced', multi_class='multinomial', solver='lbfgs')\n",
        "model.fit(X_train, y_train)\n",
        "\n",
        "# Predict & Evaluate\n",
        "y_pred = model.predict(X_test)\n",
        "acc = accuracy_score(y_test, y_pred)\n",
        "print(f\"\\n✅ Accuracy: {acc:.3f}\\n\")\n",
        "\n",
        "print(\"🏷️ Classification Report:\")\n",
        "print(classification_report(y_test, y_pred, target_names=label_encoder.classes_))\n",
        "\n",
        "# Show Confusion matrix\n",
        "cm = confusion_matrix(y_test, y_pred)\n",
        "plt.figure(figsize=(6, 5))\n",
        "sns.heatmap(cm, annot=True, fmt='d', cmap='Blues',\n",
        "            xticklabels=label_encoder.classes_,\n",
        "            yticklabels=label_encoder.classes_)\n",
        "plt.xlabel(\"Predicted\")\n",
        "plt.ylabel(\"True\")\n",
        "plt.title(\"Confusion Matrix\")\n",
        "plt.show()"
      ],
      "metadata": {
        "colab": {
          "base_uri": "https://localhost:8080/",
          "height": 0
        },
        "id": "CWJrFVH2EeES",
        "outputId": "277ddb7c-b480-480d-eef4-153c2742ca46"
      },
      "execution_count": 16,
      "outputs": [
        {
          "output_type": "stream",
          "name": "stderr",
          "text": [
            "/usr/local/lib/python3.11/dist-packages/sklearn/linear_model/_logistic.py:1247: FutureWarning: 'multi_class' was deprecated in version 1.5 and will be removed in 1.7. From then on, it will always use 'multinomial'. Leave it to its default value to avoid this warning.\n",
            "  warnings.warn(\n"
          ]
        },
        {
          "output_type": "stream",
          "name": "stdout",
          "text": [
            "\n",
            "✅ Accuracy: 0.463\n",
            "\n",
            "🏷️ Classification Report:\n",
            "              precision    recall  f1-score   support\n",
            "\n",
            "           A       0.42      0.61      0.50       364\n",
            "           D       0.30      0.27      0.28       262\n",
            "           H       0.62      0.46      0.53       514\n",
            "\n",
            "    accuracy                           0.46      1140\n",
            "   macro avg       0.45      0.45      0.44      1140\n",
            "weighted avg       0.48      0.46      0.46      1140\n",
            "\n"
          ]
        },
        {
          "output_type": "display_data",
          "data": {
            "text/plain": [
              "<Figure size 600x500 with 2 Axes>"
            ],
            "image/png": "[encoded data removed]"
          },
          "metadata": {}
        }
      ]
    },
    {
      "cell_type": "markdown",
      "source": [
        "# Random Forest Classifier"
      ],
      "metadata": {
        "id": "1crAJvFsI8IE"
      }
    },
    {
      "cell_type": "code",
      "source": [
        "# Train the model\n",
        "model = RandomForestClassifier(n_estimators=100, random_state=42, class_weight='balanced')\n",
        "model.fit(X_train, y_train)\n",
        "\n",
        "# Predict & Evaluate\n",
        "y_pred = model.predict(X_test)\n",
        "acc = accuracy_score(y_test, y_pred)\n",
        "print(f\"\\n✅ Accuracy: {acc:.3f}\\n\")\n",
        "\n",
        "print(\"🏷️ Classification Report:\")\n",
        "print(classification_report(y_test, y_pred, target_names=label_encoder.classes_))\n",
        "\n",
        "# Show Confusion matrix\n",
        "cm = confusion_matrix(y_test, y_pred)\n",
        "plt.figure(figsize=(6, 5))\n",
        "sns.heatmap(cm, annot=True, fmt='d', cmap='Blues',\n",
        "            xticklabels=label_encoder.classes_,\n",
        "            yticklabels=label_encoder.classes_)\n",
        "plt.xlabel(\"Predicted\")\n",
        "plt.ylabel(\"True\")\n",
        "plt.title(\"Confusion Matrix\")\n",
        "plt.show()"
      ],
      "metadata": {
        "colab": {
          "base_uri": "https://localhost:8080/",
          "height": 0
        },
        "id": "sHT9EPfzH59P",
        "outputId": "fda37ec5-3f10-41e3-a7fd-8799f1e7fe7a"
      },
      "execution_count": 10,
      "outputs": [
        {
          "output_type": "stream",
          "name": "stdout",
          "text": [
            "\n",
            "✅ Accuracy: 0.515\n",
            "\n",
            "🏷️ Classification Report:\n",
            "              precision    recall  f1-score   support\n",
            "\n",
            "           A       0.49      0.49      0.49       364\n",
            "           D       0.26      0.05      0.09       262\n",
            "           H       0.55      0.77      0.64       514\n",
            "\n",
            "    accuracy                           0.51      1140\n",
            "   macro avg       0.43      0.44      0.41      1140\n",
            "weighted avg       0.46      0.51      0.46      1140\n",
            "\n"
          ]
        },
        {
          "output_type": "display_data",
          "data": {
            "text/plain": [
              "<Figure size 600x500 with 2 Axes>"
            ],
            "image/png": "[encoded data removed]"
          },
          "metadata": {}
        }
      ]
    },
    {
      "cell_type": "markdown",
      "source": [
        "# XG Boost"
      ],
      "metadata": {
        "id": "l8lTZwHcKEEn"
      }
    },
    {
      "cell_type": "code",
      "source": [
        "# !pip install xgboost"
      ],
      "metadata": {
        "id": "Jps1U4M2KL1n"
      },
      "execution_count": null,
      "outputs": []
    },
    {
      "cell_type": "code",
      "source": [
        "from xgboost import XGBClassifier\n",
        "from sklearn.model_selection import train_test_split\n",
        "from sklearn.preprocessing import StandardScaler, LabelEncoder\n",
        "from sklearn.metrics import accuracy_score, confusion_matrix, classification_report\n",
        "import matplotlib.pyplot as plt\n",
        "import seaborn as sns\n",
        "import numpy as np\n",
        "import pandas as pd"
      ],
      "metadata": {
        "id": "3amoHpkWKIMi"
      },
      "execution_count": 11,
      "outputs": []
    },
    {
      "cell_type": "code",
      "source": [
        "# Train the model\n",
        "model = XGBClassifier(\n",
        "    n_estimators=150,\n",
        "    learning_rate=0.02,\n",
        "    max_depth=5,\n",
        "    random_state=42,\n",
        "    use_label_encoder=False,\n",
        "    eval_metric='mlogloss',\n",
        "    objective='multi:softprob',\n",
        "    num_class=3\n",
        ")\n",
        "model.fit(X_train, y_train)\n",
        "\n",
        "# Predict & Evaluate\n",
        "y_pred = model.predict(X_test)\n",
        "acc = accuracy_score(y_test, y_pred)\n",
        "print(f\"\\n✅ Accuracy: {acc:.3f}\\n\")\n",
        "\n",
        "print(\"🏷️ Classification Report:\")\n",
        "print(classification_report(y_test, y_pred, target_names=label_encoder.classes_))\n",
        "\n",
        "# Show Confusion matrix\n",
        "cm = confusion_matrix(y_test, y_pred)\n",
        "plt.figure(figsize=(6, 5))\n",
        "sns.heatmap(cm, annot=True, fmt='d', cmap='Blues',\n",
        "            xticklabels=label_encoder.classes_,\n",
        "            yticklabels=label_encoder.classes_)\n",
        "plt.xlabel(\"Predicted\")\n",
        "plt.ylabel(\"True\")\n",
        "plt.title(\"Confusion Matrix\")\n",
        "plt.show()\n",
        "\n",
        "# Show Importance of\n",
        "importances = model.feature_importances_\n",
        "plt.figure(figsize=(12, 5))\n",
        "plt.bar(range(len(importances)), importances)\n",
        "plt.title(\"XGBoost Feature Importances\")\n",
        "plt.show()"
      ],
      "metadata": {
        "colab": {
          "base_uri": "https://localhost:8080/",
          "height": 1000
        },
        "id": "lG4c2aJxKTP2",
        "outputId": "d6ac58f4-2b24-457d-ddec-4fce17ef78b1"
      },
      "execution_count": 13,
      "outputs": [
        {
          "output_type": "stream",
          "name": "stderr",
          "text": [
            "/usr/local/lib/python3.11/dist-packages/xgboost/training.py:183: UserWarning: [10:20:45] WARNING: /workspace/src/learner.cc:738: \n",
            "Parameters: { \"use_label_encoder\" } are not used.\n",
            "\n",
            "  bst.update(dtrain, iteration=i, fobj=obj)\n"
          ]
        },
        {
          "output_type": "stream",
          "name": "stdout",
          "text": [
            "\n",
            "✅ Accuracy: 0.530\n",
            "\n",
            "🏷️ Classification Report:\n",
            "              precision    recall  f1-score   support\n",
            "\n",
            "           A       0.49      0.55      0.52       364\n",
            "           D       0.46      0.02      0.04       262\n",
            "           H       0.55      0.77      0.64       514\n",
            "\n",
            "    accuracy                           0.53      1140\n",
            "   macro avg       0.50      0.45      0.40      1140\n",
            "weighted avg       0.51      0.53      0.47      1140\n",
            "\n"
          ]
        },
        {
          "output_type": "display_data",
          "data": {
            "text/plain": [
              "<Figure size 600x500 with 2 Axes>"
            ],
            "image/png": "[encoded data removed]"
          },
          "metadata": {}
        },
        {
          "output_type": "display_data",
          "data": {
            "text/plain": [
              "<Figure size 1200x500 with 1 Axes>"
            ],
            "image/png": "[encoded data removed]"
          },
          "metadata": {}
        }
      ]
    },
    {
      "cell_type": "markdown",
      "source": [
        "# CNN"
      ],
      "metadata": {
        "id": "rAmyZHPcPkdq"
      }
    },
    {
      "cell_type": "code",
      "source": [
        "# --- Imports ---\n",
        "import numpy as np\n",
        "import matplotlib.pyplot as plt\n",
        "import seaborn as sns\n",
        "\n",
        "from sklearn.metrics import accuracy_score, classification_report, confusion_matrix\n",
        "from sklearn.utils.class_weight import compute_class_weight\n",
        "\n",
        "import tensorflow as tf\n",
        "from tensorflow import keras\n",
        "from tensorflow.keras import layers\n",
        "\n",
        "# ---------------------------\n",
        "# Prep: reshape tabular features for 1D CNN\n",
        "# ---------------------------\n",
        "def to_1d_cnn_shape(X):\n",
        "    X = np.asarray(X, dtype=np.float32)\n",
        "    if X.ndim != 2:\n",
        "        raise ValueError(f\"Expected X with shape (N, F). Got {X.shape}\")\n",
        "    # reshape to (N, F, 1)\n",
        "    return X[..., np.newaxis]\n",
        "\n",
        "X_train_cnn = to_1d_cnn_shape(X_train)\n",
        "X_test_cnn  = to_1d_cnn_shape(X_test)\n",
        "num_features = X_train_cnn.shape[1]\n",
        "\n",
        "# Labels: support 1D ints or one-hot\n",
        "y_train_arr = np.asarray(y_train)\n",
        "y_test_arr  = np.asarray(y_test)\n",
        "\n",
        "if y_train_arr.ndim == 1:\n",
        "    num_classes = int(y_train_arr.max()) + 1\n",
        "    loss_fn = \"sparse_categorical_crossentropy\"\n",
        "    y_true_eval = y_test_arr\n",
        "else:\n",
        "    num_classes = y_train_arr.shape[1]\n",
        "    loss_fn = \"categorical_crossentropy\"\n",
        "    y_true_eval = np.argmax(y_test_arr, axis=1)\n",
        "\n",
        "# ---------------------------\n",
        "# Class weights (balanced), similar to scikit\n",
        "# ---------------------------\n",
        "class_weight = None\n",
        "sample_weight = None\n",
        "if y_train_arr.ndim == 1:\n",
        "    classes = np.unique(y_train_arr)\n",
        "    weights = compute_class_weight(class_weight=\"balanced\", classes=classes, y=y_train_arr)\n",
        "    class_weight = dict(zip(classes, weights))\n",
        "else:\n",
        "    # one-hot -> build per-sample weights\n",
        "    classes = np.arange(num_classes)\n",
        "    y_int = np.argmax(y_train_arr, axis=1)\n",
        "    weights = compute_class_weight(class_weight=\"balanced\", classes=classes, y=y_int)\n",
        "    w_map = dict(zip(classes, weights))\n",
        "    sample_weight = np.vectorize(w_map.get)(y_int).astype(np.float32)\n",
        "\n",
        "# ---------------------------\n",
        "# Model: simple 1D CNN for tabular data\n",
        "# ---------------------------\n",
        "def build_tabular_cnn(n_features, n_classes):\n",
        "    k = 3 if n_features >= 3 else (2 if n_features == 2 else 1)\n",
        "    model = keras.Sequential([\n",
        "        layers.Input(shape=(n_features, 1)),\n",
        "\n",
        "        layers.Conv1D(32, kernel_size=k, padding=\"same\", activation=\"relu\"),\n",
        "        layers.BatchNormalization(),\n",
        "        layers.Conv1D(32, kernel_size=k, padding=\"same\", activation=\"relu\"),\n",
        "        layers.Dropout(0.15),\n",
        "\n",
        "        layers.Conv1D(64, kernel_size=k, padding=\"same\", activation=\"relu\"),\n",
        "        layers.BatchNormalization(),\n",
        "        layers.Dropout(0.25),\n",
        "\n",
        "        layers.GlobalAveragePooling1D(),\n",
        "        layers.Dense(128, activation=\"relu\"),\n",
        "        layers.Dropout(0.35),\n",
        "        layers.Dense(n_classes, activation=\"softmax\"),\n",
        "    ])\n",
        "    model.compile(optimizer=keras.optimizers.Adam(1e-3), loss=loss_fn, metrics=[\"accuracy\"])\n",
        "    return model"
      ],
      "metadata": {
        "id": "Qy97RHrlPmxE"
      },
      "execution_count": 14,
      "outputs": []
    },
    {
      "cell_type": "code",
      "source": [
        "model = build_tabular_cnn(num_features, num_classes)\n",
        "model.summary()"
      ],
      "metadata": {
        "colab": {
          "base_uri": "https://localhost:8080/",
          "height": 0
        },
        "id": "WzqSk2QdP0J0",
        "outputId": "12f2c7f3-6832-4d98-d2c1-5e0d8c3e5025"
      },
      "execution_count": 15,
      "outputs": [
        {
          "output_type": "display_data",
          "data": {
            "text/plain": [
              "\u001b[1mModel: \"sequential\"\u001b[0m\n"
            ],
            "text/html": [
              "<pre style=\"white-space:pre;overflow-x:auto;line-height:normal;font-family:Menlo,'DejaVu Sans Mono',consolas,'Courier New',monospace\"><span style=\"font-weight: bold\">Model: \"sequential\"</span>\n",
              "</pre>\n"
            ]
          },
          "metadata": {}
        },
        {
          "output_type": "display_data",
          "data": {
            "text/plain": [
              "┏━━━━━━━━━━━━━━━━━━━━━━━━━━━━━━━━━┳━━━━━━━━━━━━━━━━━━━━━━━━┳━━━━━━━━━━━━━━━┓\n",
              "┃\u001b[1m \u001b[0m\u001b[1mLayer (type)                   \u001b[0m\u001b[1m \u001b[0m┃\u001b[1m \u001b[0m\u001b[1mOutput Shape          \u001b[0m\u001b[1m \u001b[0m┃\u001b[1m \u001b[0m\u001b[1m      Param #\u001b[0m\u001b[1m \u001b[0m┃\n",
              "┡━━━━━━━━━━━━━━━━━━━━━━━━━━━━━━━━━╇━━━━━━━━━━━━━━━━━━━━━━━━╇━━━━━━━━━━━━━━━┩\n",
              "│ conv1d (\u001b[38;5;33mConv1D\u001b[0m)                 │ (\u001b[38;5;45mNone\u001b[0m, \u001b[38;5;34m126\u001b[0m, \u001b[38;5;34m32\u001b[0m)        │           \u001b[38;5;34m128\u001b[0m │\n",
              "├─────────────────────────────────┼────────────────────────┼───────────────┤\n",
              "│ batch_normalization             │ (\u001b[38;5;45mNone\u001b[0m, \u001b[38;5;34m126\u001b[0m, \u001b[38;5;34m32\u001b[0m)        │           \u001b[38;5;34m128\u001b[0m │\n",
              "│ (\u001b[38;5;33mBatchNormalization\u001b[0m)            │                        │               │\n",
              "├─────────────────────────────────┼────────────────────────┼───────────────┤\n",
              "│ conv1d_1 (\u001b[38;5;33mConv1D\u001b[0m)               │ (\u001b[38;5;45mNone\u001b[0m, \u001b[38;5;34m126\u001b[0m, \u001b[38;5;34m32\u001b[0m)        │         \u001b[38;5;34m3,104\u001b[0m │\n",
              "├─────────────────────────────────┼────────────────────────┼───────────────┤\n",
              "│ dropout (\u001b[38;5;33mDropout\u001b[0m)               │ (\u001b[38;5;45mNone\u001b[0m, \u001b[38;5;34m126\u001b[0m, \u001b[38;5;34m32\u001b[0m)        │             \u001b[38;5;34m0\u001b[0m │\n",
              "├─────────────────────────────────┼────────────────────────┼───────────────┤\n",
              "│ conv1d_2 (\u001b[38;5;33mConv1D\u001b[0m)               │ (\u001b[38;5;45mNone\u001b[0m, \u001b[38;5;34m126\u001b[0m, \u001b[38;5;34m64\u001b[0m)        │         \u001b[38;5;34m6,208\u001b[0m │\n",
              "├─────────────────────────────────┼────────────────────────┼───────────────┤\n",
              "│ batch_normalization_1           │ (\u001b[38;5;45mNone\u001b[0m, \u001b[38;5;34m126\u001b[0m, \u001b[38;5;34m64\u001b[0m)        │           \u001b[38;5;34m256\u001b[0m │\n",
              "│ (\u001b[38;5;33mBatchNormalization\u001b[0m)            │                        │               │\n",
              "├─────────────────────────────────┼────────────────────────┼───────────────┤\n",
              "│ dropout_1 (\u001b[38;5;33mDropout\u001b[0m)             │ (\u001b[38;5;45mNone\u001b[0m, \u001b[38;5;34m126\u001b[0m, \u001b[38;5;34m64\u001b[0m)        │             \u001b[38;5;34m0\u001b[0m │\n",
              "├─────────────────────────────────┼────────────────────────┼───────────────┤\n",
              "│ global_average_pooling1d        │ (\u001b[38;5;45mNone\u001b[0m, \u001b[38;5;34m64\u001b[0m)             │             \u001b[38;5;34m0\u001b[0m │\n",
              "│ (\u001b[38;5;33mGlobalAveragePooling1D\u001b[0m)        │                        │               │\n",
              "├─────────────────────────────────┼────────────────────────┼───────────────┤\n",
              "│ dense (\u001b[38;5;33mDense\u001b[0m)                   │ (\u001b[38;5;45mNone\u001b[0m, \u001b[38;5;34m128\u001b[0m)            │         \u001b[38;5;34m8,320\u001b[0m │\n",
              "├─────────────────────────────────┼────────────────────────┼───────────────┤\n",
              "│ dropout_2 (\u001b[38;5;33mDropout\u001b[0m)             │ (\u001b[38;5;45mNone\u001b[0m, \u001b[38;5;34m128\u001b[0m)            │             \u001b[38;5;34m0\u001b[0m │\n",
              "├─────────────────────────────────┼────────────────────────┼───────────────┤\n",
              "│ dense_1 (\u001b[38;5;33mDense\u001b[0m)                 │ (\u001b[38;5;45mNone\u001b[0m, \u001b[38;5;34m3\u001b[0m)              │           \u001b[38;5;34m387\u001b[0m │\n",
              "└─────────────────────────────────┴────────────────────────┴───────────────┘\n"
            ],
            "text/html": [
              "<pre style=\"white-space:pre;overflow-x:auto;line-height:normal;font-family:Menlo,'DejaVu Sans Mono',consolas,'Courier New',monospace\">┏━━━━━━━━━━━━━━━━━━━━━━━━━━━━━━━━━┳━━━━━━━━━━━━━━━━━━━━━━━━┳━━━━━━━━━━━━━━━┓\n",
              "┃<span style=\"font-weight: bold\"> Layer (type)                    </span>┃<span style=\"font-weight: bold\"> Output Shape           </span>┃<span style=\"font-weight: bold\">       Param # </span>┃\n",
              "┡━━━━━━━━━━━━━━━━━━━━━━━━━━━━━━━━━╇━━━━━━━━━━━━━━━━━━━━━━━━╇━━━━━━━━━━━━━━━┩\n",
              "│ conv1d (<span style=\"color: #0087ff; text-decoration-color: #0087ff\">Conv1D</span>)                 │ (<span style=\"color: #00d7ff; text-decoration-color: #00d7ff\">None</span>, <span style=\"color: #00af00; text-decoration-color: #00af00\">126</span>, <span style=\"color: #00af00; text-decoration-color: #00af00\">32</span>)        │           <span style=\"color: #00af00; text-decoration-color: #00af00\">128</span> │\n",
              "├─────────────────────────────────┼────────────────────────┼───────────────┤\n",
              "│ batch_normalization             │ (<span style=\"color: #00d7ff; text-decoration-color: #00d7ff\">None</span>, <span style=\"color: #00af00; text-decoration-color: #00af00\">126</span>, <span style=\"color: #00af00; text-decoration-color: #00af00\">32</span>)        │           <span style=\"color: #00af00; text-decoration-color: #00af00\">128</span> │\n",
              "│ (<span style=\"color: #0087ff; text-decoration-color: #0087ff\">BatchNormalization</span>)            │                        │               │\n",
              "├─────────────────────────────────┼────────────────────────┼───────────────┤\n",
              "│ conv1d_1 (<span style=\"color: #0087ff; text-decoration-color: #0087ff\">Conv1D</span>)               │ (<span style=\"color: #00d7ff; text-decoration-color: #00d7ff\">None</span>, <span style=\"color: #00af00; text-decoration-color: #00af00\">126</span>, <span style=\"color: #00af00; text-decoration-color: #00af00\">32</span>)        │         <span style=\"color: #00af00; text-decoration-color: #00af00\">3,104</span> │\n",
              "├─────────────────────────────────┼────────────────────────┼───────────────┤\n",
              "│ dropout (<span style=\"color: #0087ff; text-decoration-color: #0087ff\">Dropout</span>)               │ (<span style=\"color: #00d7ff; text-decoration-color: #00d7ff\">None</span>, <span style=\"color: #00af00; text-decoration-color: #00af00\">126</span>, <span style=\"color: #00af00; text-decoration-color: #00af00\">32</span>)        │             <span style=\"color: #00af00; text-decoration-color: #00af00\">0</span> │\n",
              "├─────────────────────────────────┼────────────────────────┼───────────────┤\n",
              "│ conv1d_2 (<span style=\"color: #0087ff; text-decoration-color: #0087ff\">Conv1D</span>)               │ (<span style=\"color: #00d7ff; text-decoration-color: #00d7ff\">None</span>, <span style=\"color: #00af00; text-decoration-color: #00af00\">126</span>, <span style=\"color: #00af00; text-decoration-color: #00af00\">64</span>)        │         <span style=\"color: #00af00; text-decoration-color: #00af00\">6,208</span> │\n",
              "├─────────────────────────────────┼────────────────────────┼───────────────┤\n",
              "│ batch_normalization_1           │ (<span style=\"color: #00d7ff; text-decoration-color: #00d7ff\">None</span>, <span style=\"color: #00af00; text-decoration-color: #00af00\">126</span>, <span style=\"color: #00af00; text-decoration-color: #00af00\">64</span>)        │           <span style=\"color: #00af00; text-decoration-color: #00af00\">256</span> │\n",
              "│ (<span style=\"color: #0087ff; text-decoration-color: #0087ff\">BatchNormalization</span>)            │                        │               │\n",
              "├─────────────────────────────────┼────────────────────────┼───────────────┤\n",
              "│ dropout_1 (<span style=\"color: #0087ff; text-decoration-color: #0087ff\">Dropout</span>)             │ (<span style=\"color: #00d7ff; text-decoration-color: #00d7ff\">None</span>, <span style=\"color: #00af00; text-decoration-color: #00af00\">126</span>, <span style=\"color: #00af00; text-decoration-color: #00af00\">64</span>)        │             <span style=\"color: #00af00; text-decoration-color: #00af00\">0</span> │\n",
              "├─────────────────────────────────┼────────────────────────┼───────────────┤\n",
              "│ global_average_pooling1d        │ (<span style=\"color: #00d7ff; text-decoration-color: #00d7ff\">None</span>, <span style=\"color: #00af00; text-decoration-color: #00af00\">64</span>)             │             <span style=\"color: #00af00; text-decoration-color: #00af00\">0</span> │\n",
              "│ (<span style=\"color: #0087ff; text-decoration-color: #0087ff\">GlobalAveragePooling1D</span>)        │                        │               │\n",
              "├─────────────────────────────────┼────────────────────────┼───────────────┤\n",
              "│ dense (<span style=\"color: #0087ff; text-decoration-color: #0087ff\">Dense</span>)                   │ (<span style=\"color: #00d7ff; text-decoration-color: #00d7ff\">None</span>, <span style=\"color: #00af00; text-decoration-color: #00af00\">128</span>)            │         <span style=\"color: #00af00; text-decoration-color: #00af00\">8,320</span> │\n",
              "├─────────────────────────────────┼────────────────────────┼───────────────┤\n",
              "│ dropout_2 (<span style=\"color: #0087ff; text-decoration-color: #0087ff\">Dropout</span>)             │ (<span style=\"color: #00d7ff; text-decoration-color: #00d7ff\">None</span>, <span style=\"color: #00af00; text-decoration-color: #00af00\">128</span>)            │             <span style=\"color: #00af00; text-decoration-color: #00af00\">0</span> │\n",
              "├─────────────────────────────────┼────────────────────────┼───────────────┤\n",
              "│ dense_1 (<span style=\"color: #0087ff; text-decoration-color: #0087ff\">Dense</span>)                 │ (<span style=\"color: #00d7ff; text-decoration-color: #00d7ff\">None</span>, <span style=\"color: #00af00; text-decoration-color: #00af00\">3</span>)              │           <span style=\"color: #00af00; text-decoration-color: #00af00\">387</span> │\n",
              "└─────────────────────────────────┴────────────────────────┴───────────────┘\n",
              "</pre>\n"
            ]
          },
          "metadata": {}
        },
        {
          "output_type": "display_data",
          "data": {
            "text/plain": [
              "\u001b[1m Total params: \u001b[0m\u001b[38;5;34m18,531\u001b[0m (72.39 KB)\n"
            ],
            "text/html": [
              "<pre style=\"white-space:pre;overflow-x:auto;line-height:normal;font-family:Menlo,'DejaVu Sans Mono',consolas,'Courier New',monospace\"><span style=\"font-weight: bold\"> Total params: </span><span style=\"color: #00af00; text-decoration-color: #00af00\">18,531</span> (72.39 KB)\n",
              "</pre>\n"
            ]
          },
          "metadata": {}
        },
        {
          "output_type": "display_data",
          "data": {
            "text/plain": [
              "\u001b[1m Trainable params: \u001b[0m\u001b[38;5;34m18,339\u001b[0m (71.64 KB)\n"
            ],
            "text/html": [
              "<pre style=\"white-space:pre;overflow-x:auto;line-height:normal;font-family:Menlo,'DejaVu Sans Mono',consolas,'Courier New',monospace\"><span style=\"font-weight: bold\"> Trainable params: </span><span style=\"color: #00af00; text-decoration-color: #00af00\">18,339</span> (71.64 KB)\n",
              "</pre>\n"
            ]
          },
          "metadata": {}
        },
        {
          "output_type": "display_data",
          "data": {
            "text/plain": [
              "\u001b[1m Non-trainable params: \u001b[0m\u001b[38;5;34m192\u001b[0m (768.00 B)\n"
            ],
            "text/html": [
              "<pre style=\"white-space:pre;overflow-x:auto;line-height:normal;font-family:Menlo,'DejaVu Sans Mono',consolas,'Courier New',monospace\"><span style=\"font-weight: bold\"> Non-trainable params: </span><span style=\"color: #00af00; text-decoration-color: #00af00\">192</span> (768.00 B)\n",
              "</pre>\n"
            ]
          },
          "metadata": {}
        }
      ]
    },
    {
      "cell_type": "code",
      "source": [
        "callbacks = [keras.callbacks.EarlyStopping(monitor=\"val_loss\", patience=5, restore_best_weights=True)]\n",
        "\n",
        "history = model.fit(\n",
        "    X_train_cnn, y_train_arr,\n",
        "    validation_split=0.15,\n",
        "    epochs=150,\n",
        "    batch_size=64,\n",
        "    class_weight=class_weight,         # used if labels are integer\n",
        "    sample_weight=sample_weight,       # used if labels are one-hot\n",
        "    callbacks=callbacks,\n",
        "    verbose=1\n",
        ")"
      ],
      "metadata": {
        "colab": {
          "base_uri": "https://localhost:8080/"
        },
        "id": "kdk_TJKTP5xi",
        "outputId": "c4581fad-b6cf-4740-c7e0-e0d95a717cf8"
      },
      "execution_count": null,
      "outputs": [
        {
          "output_type": "stream",
          "name": "stdout",
          "text": [
            "Epoch 1/150\n",
            "\u001b[1m96/96\u001b[0m \u001b[32m━━━━━━━━━━━━━━━━━━━━\u001b[0m\u001b[37m\u001b[0m \u001b[1m14s\u001b[0m 57ms/step - accuracy: 0.3525 - loss: 1.0894 - val_accuracy: 0.2271 - val_loss: 1.1177\n",
            "Epoch 2/150\n",
            "\u001b[1m96/96\u001b[0m \u001b[32m━━━━━━━━━━━━━━━━━━━━\u001b[0m\u001b[37m\u001b[0m \u001b[1m10s\u001b[0m 4ms/step - accuracy: 0.3982 - loss: 1.0711 - val_accuracy: 0.2271 - val_loss: 1.1413\n",
            "Epoch 3/150\n",
            "\u001b[1m96/96\u001b[0m \u001b[32m━━━━━━━━━━━━━━━━━━━━\u001b[0m\u001b[37m\u001b[0m \u001b[1m1s\u001b[0m 4ms/step - accuracy: 0.4177 - loss: 1.0614 - val_accuracy: 0.2401 - val_loss: 1.1313\n",
            "Epoch 4/150\n",
            "\u001b[1m96/96\u001b[0m \u001b[32m━━━━━━━━━━━━━━━━━━━━\u001b[0m\u001b[37m\u001b[0m \u001b[1m0s\u001b[0m 4ms/step - accuracy: 0.4368 - loss: 1.0564 - val_accuracy: 0.4164 - val_loss: 1.0985\n",
            "Epoch 5/150\n",
            "\u001b[1m96/96\u001b[0m \u001b[32m━━━━━━━━━━━━━━━━━━━━\u001b[0m\u001b[37m\u001b[0m \u001b[1m1s\u001b[0m 4ms/step - accuracy: 0.4389 - loss: 1.0502 - val_accuracy: 0.3897 - val_loss: 1.0865\n",
            "Epoch 6/150\n",
            "\u001b[1m96/96\u001b[0m \u001b[32m━━━━━━━━━━━━━━━━━━━━\u001b[0m\u001b[37m\u001b[0m \u001b[1m0s\u001b[0m 4ms/step - accuracy: 0.4205 - loss: 1.0503 - val_accuracy: 0.3998 - val_loss: 1.0652\n",
            "Epoch 7/150\n",
            "\u001b[1m96/96\u001b[0m \u001b[32m━━━━━━━━━━━━━━━━━━━━\u001b[0m\u001b[37m\u001b[0m \u001b[1m1s\u001b[0m 4ms/step - accuracy: 0.4420 - loss: 1.0394 - val_accuracy: 0.3481 - val_loss: 1.0883\n",
            "Epoch 8/150\n",
            "\u001b[1m96/96\u001b[0m \u001b[32m━━━━━━━━━━━━━━━━━━━━\u001b[0m\u001b[37m\u001b[0m \u001b[1m1s\u001b[0m 7ms/step - accuracy: 0.4398 - loss: 1.0482 - val_accuracy: 0.4349 - val_loss: 1.0517\n",
            "Epoch 9/150\n",
            "\u001b[1m96/96\u001b[0m \u001b[32m━━━━━━━━━━━━━━━━━━━━\u001b[0m\u001b[37m\u001b[0m \u001b[1m1s\u001b[0m 7ms/step - accuracy: 0.4499 - loss: 1.0403 - val_accuracy: 0.4986 - val_loss: 1.0265\n",
            "Epoch 10/150\n",
            "\u001b[1m96/96\u001b[0m \u001b[32m━━━━━━━━━━━━━━━━━━━━\u001b[0m\u001b[37m\u001b[0m \u001b[1m1s\u001b[0m 4ms/step - accuracy: 0.4443 - loss: 1.0484 - val_accuracy: 0.4469 - val_loss: 1.0498\n",
            "Epoch 11/150\n",
            "\u001b[1m96/96\u001b[0m \u001b[32m━━━━━━━━━━━━━━━━━━━━\u001b[0m\u001b[37m\u001b[0m \u001b[1m1s\u001b[0m 4ms/step - accuracy: 0.4340 - loss: 1.0459 - val_accuracy: 0.4367 - val_loss: 1.0607\n",
            "Epoch 12/150\n",
            "\u001b[1m96/96\u001b[0m \u001b[32m━━━━━━━━━━━━━━━━━━━━\u001b[0m\u001b[37m\u001b[0m \u001b[1m0s\u001b[0m 4ms/step - accuracy: 0.4393 - loss: 1.0419 - val_accuracy: 0.4515 - val_loss: 1.0464\n",
            "Epoch 13/150\n",
            "\u001b[1m96/96\u001b[0m \u001b[32m━━━━━━━━━━━━━━━━━━━━\u001b[0m\u001b[37m\u001b[0m \u001b[1m0s\u001b[0m 4ms/step - accuracy: 0.4469 - loss: 1.0363 - val_accuracy: 0.4395 - val_loss: 1.0451\n",
            "Epoch 14/150\n",
            "\u001b[1m96/96\u001b[0m \u001b[32m━━━━━━━━━━━━━━━━━━━━\u001b[0m\u001b[37m\u001b[0m \u001b[1m0s\u001b[0m 4ms/step - accuracy: 0.4546 - loss: 1.0318 - val_accuracy: 0.4746 - val_loss: 1.0334\n"
          ]
        }
      ]
    },
    {
      "cell_type": "code",
      "source": [
        "# ---------------------------\n",
        "# Predict & Evaluate\n",
        "# ---------------------------\n",
        "proba = model.predict(X_test_cnn)\n",
        "y_pred = np.argmax(proba, axis=1)\n",
        "\n",
        "acc = accuracy_score(y_true_eval, y_pred)\n",
        "print(f\"\\n✅ Accuracy: {acc:.3f}\\n\")\n",
        "\n",
        "print(\"🏷️ Classification Report:\")\n",
        "target_names = getattr(label_encoder, \"classes_\", None)\n",
        "print(classification_report(y_true_eval, y_pred, target_names=target_names))\n",
        "\n",
        "# ---------------------------\n",
        "# Confusion Matrix\n",
        "# ---------------------------\n",
        "cm = confusion_matrix(y_true_eval, y_pred)\n",
        "plt.figure(figsize=(6,5))\n",
        "sns.heatmap(cm, annot=True, fmt='d', cmap='Blues',\n",
        "            xticklabels=target_names if target_names is not None else np.arange(num_classes),\n",
        "            yticklabels=target_names if target_names is not None else np.arange(num_classes))\n",
        "plt.xlabel(\"Predicted\")\n",
        "plt.ylabel(\"True\")\n",
        "plt.title(\"Confusion Matrix (1D CNN on Tabular)\")\n",
        "plt.tight_layout()\n",
        "plt.show()"
      ],
      "metadata": {
        "colab": {
          "base_uri": "https://localhost:8080/",
          "height": 781
        },
        "id": "DPNaauD4P9Aj",
        "outputId": "5ee15718-4709-4db3-a63d-230c99e4b0df"
      },
      "execution_count": null,
      "outputs": [
        {
          "output_type": "stream",
          "name": "stdout",
          "text": [
            "\u001b[1m36/36\u001b[0m \u001b[32m━━━━━━━━━━━━━━━━━━━━\u001b[0m\u001b[37m\u001b[0m \u001b[1m1s\u001b[0m 18ms/step\n",
            "\n",
            "✅ Accuracy: 0.514\n",
            "\n",
            "🏷️ Classification Report:\n",
            "              precision    recall  f1-score   support\n",
            "\n",
            "           A       0.48      0.46      0.47       364\n",
            "           D       0.35      0.03      0.06       262\n",
            "           H       0.53      0.79      0.64       514\n",
            "\n",
            "    accuracy                           0.51      1140\n",
            "   macro avg       0.45      0.43      0.39      1140\n",
            "weighted avg       0.47      0.51      0.45      1140\n",
            "\n"
          ]
        },
        {
          "output_type": "display_data",
          "data": {
            "text/plain": [
              "<Figure size 600x500 with 2 Axes>"
            ],
            "image/png": "[encoded data removed]"
          },
          "metadata": {}
        }
      ]
    },
    {
      "cell_type": "code",
      "source": [
        "plt.figure(figsize=(6,4))\n",
        "plt.plot(history.history[\"loss\"], label=\"train_loss\")\n",
        "plt.plot(history.history[\"val_loss\"], label=\"val_loss\")\n",
        "plt.xlabel(\"Epoch\")\n",
        "plt.ylabel(\"Loss\")\n",
        "plt.title(\"Training Curves\")\n",
        "plt.legend()\n",
        "plt.tight_layout()\n",
        "plt.show()"
      ],
      "metadata": {
        "colab": {
          "base_uri": "https://localhost:8080/",
          "height": 407
        },
        "id": "abJM_qtHQbng",
        "outputId": "5a127a68-d029-42e7-d8f7-d906103b31f0"
      },
      "execution_count": null,
      "outputs": [
        {
          "output_type": "display_data",
          "data": {
            "text/plain": [
              "<Figure size 600x400 with 1 Axes>"
            ],
            "image/png": "[encoded data removed]"
          },
          "metadata": {}
        }
      ]
    },
    {
      "cell_type": "markdown",
      "source": [
        "# Choosing Hyper-Parameters"
      ],
      "metadata": {
        "id": "djUyfK_GWSfU"
      }
    },
    {
      "cell_type": "code",
      "source": [
        "from xgboost import XGBClassifier\n",
        "from sklearn.model_selection import RandomizedSearchCV\n",
        "from scipy.stats import randint, uniform\n",
        "\n",
        "# Base model\n",
        "xgb = XGBClassifier(\n",
        "    objective='multi:softprob',\n",
        "    eval_metric='mlogloss',\n",
        "    num_class=3,\n",
        "    use_label_encoder=False,\n",
        "    random_state=42\n",
        ")\n",
        "\n",
        "# Parameter distributions\n",
        "param_dist = {\n",
        "    \"n_estimators\": randint(100, 2000),\n",
        "    \"learning_rate\": uniform(0.01, 0.3),\n",
        "    \"max_depth\": randint(3, 10),\n",
        "    \"min_child_weight\": randint(1, 10),\n",
        "    \"gamma\": uniform(0, 5),\n",
        "    \"subsample\": uniform(0.5, 0.5),       # 0.5–1.0\n",
        "    \"colsample_bytree\": uniform(0.5, 0.5),# 0.5–1.0\n",
        "    \"reg_alpha\": uniform(0, 1),\n",
        "    \"reg_lambda\": uniform(0.5, 2)\n",
        "}\n",
        "\n",
        "# Random search\n",
        "random_search = RandomizedSearchCV(\n",
        "    estimator=xgb,\n",
        "    param_distributions=param_dist,\n",
        "    n_iter=50,                # Increase for more thorough search\n",
        "    scoring='accuracy',       # Or 'balanced_accuracy'\n",
        "    cv=5,                      # StratifiedKFold by default\n",
        "    verbose=1,\n",
        "    random_state=42,\n",
        "    n_jobs=-1\n",
        ")\n",
        "\n",
        "# Fit search\n",
        "random_search.fit(X_train, y_train)\n",
        "\n",
        "# Results\n",
        "print(\"Best score:\", random_search.best_score_)\n",
        "print(\"Best parameters:\", random_search.best_params_)\n",
        "\n",
        "# Evaluate on test set\n",
        "best_model = random_search.best_estimator_\n",
        "y_pred = best_model.predict(X_test)\n",
        "print(\"Test accuracy:\", accuracy_score(y_test, y_pred))\n"
      ],
      "metadata": {
        "colab": {
          "base_uri": "https://localhost:8080/"
        },
        "id": "RcqM0cRQWZrq",
        "outputId": "6a7ad72f-3c55-4ec0-8536-36bf834e6fd5"
      },
      "execution_count": null,
      "outputs": [
        {
          "output_type": "stream",
          "name": "stdout",
          "text": [
            "Fitting 5 folds for each of 50 candidates, totalling 250 fits\n"
          ]
        },
        {
          "output_type": "stream",
          "name": "stderr",
          "text": [
            "/usr/local/lib/python3.11/dist-packages/xgboost/training.py:183: UserWarning: [12:28:21] WARNING: /workspace/src/learner.cc:738: \n",
            "Parameters: { \"use_label_encoder\" } are not used.\n",
            "\n",
            "  bst.update(dtrain, iteration=i, fobj=obj)\n"
          ]
        },
        {
          "output_type": "stream",
          "name": "stdout",
          "text": [
            "Best score: 0.517174515235457\n",
            "Best parameters: {'colsample_bytree': np.float64(0.6594878151468806), 'gamma': np.float64(4.2243765548472725), 'learning_rate': np.float64(0.01698158072074776), 'max_depth': 4, 'min_child_weight': 3, 'n_estimators': 716, 'reg_alpha': np.float64(0.4960374542934062), 'reg_lambda': np.float64(1.8857807173838788), 'subsample': np.float64(0.6741683022265987)}\n",
            "Test accuracy: 0.5385964912280702\n"
          ]
        }
      ]
    },
    {
      "cell_type": "code",
      "source": [
        "# Train the model with the new best parameters as found.\n",
        "model = XGBClassifier(\n",
        "    objective='multi:softprob',\n",
        "    eval_metric='mlogloss',\n",
        "    num_class=3,\n",
        "    use_label_encoder=False,\n",
        "    random_state=42,\n",
        "    colsample_bytree=0.6594878151468806,\n",
        "    gamma=4.2243765548472725,\n",
        "    learning_rate=0.01698158072074776,\n",
        "    max_depth=4,\n",
        "    min_child_weight=3,\n",
        "    n_estimators=716,\n",
        "    reg_alpha=0.4960374542934062,\n",
        "    reg_lambda=1.8857807173838788,\n",
        "    subsample=0.6741683022265987\n",
        ")\n",
        "model.fit(X_train, y_train)\n",
        "\n",
        "# Predict & Evaluate\n",
        "y_pred = model.predict(X_test)\n",
        "acc = accuracy_score(y_test, y_pred)\n",
        "print(f\"\\n✅ Accuracy: {acc:.3f}\\n\")\n",
        "\n",
        "print(\"🏷️ Classification Report:\")\n",
        "print(classification_report(y_test, y_pred, target_names=label_encoder.classes_))\n",
        "\n",
        "# Show Confusion matrix\n",
        "cm = confusion_matrix(y_test, y_pred)\n",
        "plt.figure(figsize=(6, 5))\n",
        "sns.heatmap(cm, annot=True, fmt='d', cmap='Blues',\n",
        "            xticklabels=label_encoder.classes_,\n",
        "            yticklabels=label_encoder.classes_)\n",
        "plt.xlabel(\"Predicted\")\n",
        "plt.ylabel(\"True\")\n",
        "plt.title(\"Confusion Matrix\")\n",
        "plt.show()"
      ],
      "metadata": {
        "colab": {
          "base_uri": "https://localhost:8080/",
          "height": 0
        },
        "id": "Th1J92Np7U2X",
        "outputId": "e5d3dd55-6f44-47b1-a729-58653e1e4d2f"
      },
      "execution_count": 18,
      "outputs": [
        {
          "output_type": "stream",
          "name": "stderr",
          "text": [
            "/usr/local/lib/python3.11/dist-packages/xgboost/training.py:183: UserWarning: [11:07:06] WARNING: /workspace/src/learner.cc:738: \n",
            "Parameters: { \"use_label_encoder\" } are not used.\n",
            "\n",
            "  bst.update(dtrain, iteration=i, fobj=obj)\n"
          ]
        },
        {
          "output_type": "stream",
          "name": "stdout",
          "text": [
            "\n",
            "✅ Accuracy: 0.539\n",
            "\n",
            "🏷️ Classification Report:\n",
            "              precision    recall  f1-score   support\n",
            "\n",
            "           A       0.50      0.57      0.54       364\n",
            "           D       0.00      0.00      0.00       262\n",
            "           H       0.56      0.79      0.65       514\n",
            "\n",
            "    accuracy                           0.54      1140\n",
            "   macro avg       0.35      0.45      0.40      1140\n",
            "weighted avg       0.41      0.54      0.47      1140\n",
            "\n"
          ]
        },
        {
          "output_type": "stream",
          "name": "stderr",
          "text": [
            "/usr/local/lib/python3.11/dist-packages/sklearn/metrics/_classification.py:1565: UndefinedMetricWarning: Precision is ill-defined and being set to 0.0 in labels with no predicted samples. Use `zero_division` parameter to control this behavior.\n",
            "  _warn_prf(average, modifier, f\"{metric.capitalize()} is\", len(result))\n",
            "/usr/local/lib/python3.11/dist-packages/sklearn/metrics/_classification.py:1565: UndefinedMetricWarning: Precision is ill-defined and being set to 0.0 in labels with no predicted samples. Use `zero_division` parameter to control this behavior.\n",
            "  _warn_prf(average, modifier, f\"{metric.capitalize()} is\", len(result))\n",
            "/usr/local/lib/python3.11/dist-packages/sklearn/metrics/_classification.py:1565: UndefinedMetricWarning: Precision is ill-defined and being set to 0.0 in labels with no predicted samples. Use `zero_division` parameter to control this behavior.\n",
            "  _warn_prf(average, modifier, f\"{metric.capitalize()} is\", len(result))\n"
          ]
        },
        {
          "output_type": "display_data",
          "data": {
            "text/plain": [
              "<Figure size 600x500 with 2 Axes>"
            ],
            "image/png": "[encoded data removed]"
          },
          "metadata": {}
        }
      ]
    },
    {
      "cell_type": "markdown",
      "source": [
        "# Predict more draws"
      ],
      "metadata": {
        "id": "l7MtSJwO91yc"
      }
    },
    {
      "cell_type": "code",
      "source": [
        "import numpy as np\n",
        "import pandas as pd\n",
        "from xgboost import XGBClassifier\n",
        "from sklearn.metrics import accuracy_score, f1_score, classification_report\n",
        "from sklearn.utils.class_weight import compute_class_weight\n",
        "from sklearn.model_selection import train_test_split\n",
        "\n",
        "# -----------------------------\n",
        "# Inputs assumed to exist:\n",
        "#   X_train, X_test  -> pandas DataFrames with named columns (from previous step)\n",
        "#   y_train, y_test  -> encoded integer labels (LabelEncoder)\n",
        "#   label_encoder    -> fitted LabelEncoder (classes_ contains e.g. ['A','D','H'] or similar)\n",
        "# -----------------------------\n",
        "\n",
        "# 1) Make a chronological validation split FROM THE TRAIN PERIOD (last 20% by index order)\n",
        "def chrono_split(X, y, val_frac=0.2):\n",
        "    # Keep the order: first part -> train_sub, last part -> val_sub\n",
        "    n = len(X)\n",
        "    cut = int(np.floor((1 - val_frac) * n))\n",
        "    X_tr, X_val = X.iloc[:cut], X.iloc[cut:]\n",
        "    y_tr, y_val = y[:cut], y[cut:]\n",
        "    return X_tr, X_val, y_tr, y_val\n",
        "\n",
        "X_tr, X_val, y_tr, y_val = chrono_split(X_train, y_train, val_frac=0.2)\n",
        "\n",
        "# 2) Helper: build sample weights with \"balanced\" base + extra boost for the Draw class\n",
        "#    We'll grid-search the boost factor in [1.0 ... 3.0]\n",
        "classes = np.unique(y_tr)\n",
        "class_to_idx = {c:i for i,c in enumerate(classes)}\n",
        "\n",
        "# infer which index is \"Draw\" in your encoded labels\n",
        "# Works if your original label_encoder.classes_ contains something like ['A','D','H'] or ['Away','Draw','Home']\n",
        "# Adjust this mapping if your class names differ.\n",
        "if hasattr(label_encoder, \"classes_\"):\n",
        "    # find the encoded integer for the string that looks like Draw\n",
        "    draw_candidates = [i for i, name in enumerate(label_encoder.classes_) if str(name).lower().startswith(\"d\")]\n",
        "    if len(draw_candidates) == 1:\n",
        "        DRAW_ID = draw_candidates[0]\n",
        "    else:\n",
        "        # fallback: assume the middle class is draw (3-way classification)\n",
        "        DRAW_ID = 1\n",
        "else:\n",
        "    DRAW_ID = 1\n",
        "\n",
        "def make_sample_weight(y, draw_boost=1.0):\n",
        "    base_cw = compute_class_weight(class_weight=\"balanced\", classes=classes, y=y)\n",
        "    base_cw = base_cw.astype(float)\n",
        "\n",
        "    # Multiply the Draw weight\n",
        "    # Map from global class id to local 'classes' order\n",
        "    cw_map = {cls: w for cls, w in zip(classes, base_cw)}\n",
        "    # bump only the draw class\n",
        "    if DRAW_ID in cw_map:\n",
        "        cw_map[DRAW_ID] *= draw_boost\n",
        "\n",
        "    w = np.array([cw_map[yi] for yi in y])\n",
        "    return w\n",
        "\n",
        "# 3) Train a model with early stopping on the validation slice\n",
        "def fit_xgb(Xtr, ytr, Xval, yval, sample_weight_tr=None, sample_weight_val=None, random_state=42):\n",
        "    model = XGBClassifier(\n",
        "        objective=\"multi:softprob\",\n",
        "        eval_metric=\"mlogloss\",\n",
        "        num_class=len(np.unique(y_train)),\n",
        "        tree_method=\"hist\",\n",
        "        learning_rate=0.05,\n",
        "        n_estimators=2000,          # rely on early stopping\n",
        "        max_depth=6,\n",
        "        subsample=0.8,\n",
        "        colsample_bytree=0.8,\n",
        "        random_state=random_state\n",
        "    )\n",
        "    model.fit(\n",
        "        Xtr, ytr,\n",
        "        sample_weight=sample_weight_tr,\n",
        "        eval_set=[(Xval, yval)],\n",
        "        sample_weight_eval_set=[sample_weight_val] if sample_weight_val is not None else None,\n",
        "        # early_stopping_rounds=100,\n",
        "        verbose=False\n",
        "    )\n",
        "    return model\n",
        "\n",
        "# 4) Bias adjustment: add a constant to the DRAW logit, then softmax\n",
        "def softmax(z, axis=1):\n",
        "    z = np.asarray(z)\n",
        "    zmax = np.max(z, axis=axis, keepdims=True)\n",
        "    ez = np.exp(z - zmax)\n",
        "    return ez / ez.sum(axis=axis, keepdims=True)\n",
        "\n",
        "def apply_draw_bias(model, X, bias):\n",
        "    # raw margins (logits) shape [n_samples, n_classes]\n",
        "    logits = model.predict(X, output_margin=True)\n",
        "    logits = np.array(logits)\n",
        "    logits[:, DRAW_ID] += bias\n",
        "    probs_adj = softmax(logits, axis=1)\n",
        "    y_pred_adj = probs_adj.argmax(axis=1)\n",
        "    return y_pred_adj, probs_adj\n",
        "\n",
        "# 5) Grid search on (draw_boost, draw_bias) using macro-F1 on the validation set\n",
        "draw_boost_grid = [1.0, 1.5, 2.0, 2.5, 3.0]\n",
        "draw_bias_grid  = np.arange(-1.0, 2.01, 0.25)  # logit bias to add to the draw class\n",
        "\n",
        "best = {\"f1\": -1, \"boost\": None, \"bias\": None, \"model\": None}\n",
        "\n",
        "for boost in draw_boost_grid:\n",
        "    sw_tr  = make_sample_weight(y_tr, draw_boost=boost)\n",
        "    sw_val = make_sample_weight(y_val, draw_boost=boost)  # keep early stopping aligned with weighting\n",
        "    model  = fit_xgb(X_tr, y_tr, X_val, y_val, sample_weight_tr=sw_tr, sample_weight_val=sw_val)\n",
        "\n",
        "    # Search the bias\n",
        "    for bias in draw_bias_grid:\n",
        "        y_pred_val, _ = apply_draw_bias(model, X_val, bias)\n",
        "        f1 = f1_score(y_val, y_pred_val, average=\"macro\")\n",
        "        if f1 > best[\"f1\"]:\n",
        "            best.update({\"f1\": f1, \"boost\": boost, \"bias\": bias, \"model\": model})\n",
        "\n",
        "print(f\"Best on validation -> macro-F1={best['f1']:.4f}, draw_boost={best['boost']}, draw_bias={best['bias']}\")\n",
        "\n",
        "# 6) (Optional but recommended) Retrain on TRAIN+VAL with the chosen draw_boost,\n",
        "#     using a tiny internal early-stopping split to avoid leaking test info.\n",
        "def retrain_on_trainval(X_train_full, y_train_full, draw_boost, random_state=42):\n",
        "    # internal split (chronological): last 10% for early stopping\n",
        "    n = len(X_train_full)\n",
        "    cut = int(np.floor(0.9 * n))\n",
        "    Xtr, Xes = X_train_full.iloc[:cut], X_train_full.iloc[cut:]\n",
        "    ytr, yes = y_train_full[:cut], y_train_full[cut:]\n",
        "    sw_tr  = make_sample_weight(ytr, draw_boost)\n",
        "    sw_es  = make_sample_weight(yes, draw_boost)\n",
        "\n",
        "    model = fit_xgb(Xtr, ytr, Xes, yes, sample_weight_tr=sw_tr, sample_weight_val=sw_es, random_state=random_state)\n",
        "    return model\n",
        "\n",
        "X_train_full = pd.concat([X_tr, X_val], axis=0)\n",
        "y_train_full = np.concatenate([y_tr, y_val])\n",
        "final_model = retrain_on_trainval(X_train_full, y_train_full, best[\"boost\"], random_state=42)\n",
        "\n",
        "# 7) Evaluate on TEST with the tuned draw bias\n",
        "y_pred_test, test_probs = apply_draw_bias(final_model, X_test, best[\"bias\"])\n",
        "acc = accuracy_score(y_test, y_pred_test)\n",
        "macro_f1 = f1_score(y_test, y_pred_test, average=\"macro\")\n",
        "print(\"\\n=== TEST METRICS (with draw weight + bias) ===\")\n",
        "print(f\"Accuracy:  {acc:.4f}\")\n",
        "print(f\"Macro-F1:  {macro_f1:.4f}\")\n",
        "print(\"\\nPer-class report:\")\n",
        "print(classification_report(y_test, y_pred_test, target_names=label_encoder.classes_))\n",
        "\n",
        "# 8) (Optional) Inspect how often we predict Draw now\n",
        "pred_counts = pd.Series(y_pred_test).value_counts().reindex(range(len(label_encoder.classes_)), fill_value=0)\n",
        "print(\"\\nPredicted class counts on TEST:\")\n",
        "print(pd.Series(pred_counts.values, index=label_encoder.classes_))"
      ],
      "metadata": {
        "colab": {
          "base_uri": "https://localhost:8080/"
        },
        "id": "NY_ropZI96t_",
        "outputId": "006d72cd-3009-423b-c44b-40701275fc96"
      },
      "execution_count": null,
      "outputs": [
        {
          "output_type": "stream",
          "name": "stdout",
          "text": [
            "Best on validation -> macro-F1=0.4308, draw_boost=3.0, draw_bias=-0.25\n",
            "\n",
            "=== TEST METRICS (with draw weight + bias) ===\n",
            "Accuracy:  0.4833\n",
            "Macro-F1:  0.4276\n",
            "\n",
            "Per-class report:\n",
            "              precision    recall  f1-score   support\n",
            "\n",
            "           A       0.47      0.47      0.47       364\n",
            "           D       0.28      0.18      0.22       262\n",
            "           H       0.55      0.65      0.59       514\n",
            "\n",
            "    accuracy                           0.48      1140\n",
            "   macro avg       0.43      0.43      0.43      1140\n",
            "weighted avg       0.46      0.48      0.47      1140\n",
            "\n",
            "\n",
            "Predicted class counts on TEST:\n",
            "A    365\n",
            "D    169\n",
            "H    606\n",
            "dtype: int64\n"
          ]
        }
      ]
    }
  ]
}